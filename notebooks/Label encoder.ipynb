{
 "cells": [
  {
   "cell_type": "code",
   "execution_count": null,
   "metadata": {},
   "outputs": [],
   "source": [
    "#label encoder\n",
    "\n",
    "def labelencode(df):\n",
    "  le = preprocessing.LabelEncoder()\n",
    "  \n",
    "  #retain all columns LabelEncoder as dictionary.\n",
    "  d = defaultdict(LabelEncoder)\n",
    "  \n",
    "  # Encoding the variables\n",
    "  fit = df.apply(lambda x: d[x.name].fit_transform(x))\n",
    "  \n",
    "  # Inverse the encoded\n",
    "  #fit.apply(lambda x: d[x.name].inverse_transform(x))\n",
    "  return d\n",
    "  \n",
    "def labeltransform(df):\n",
    "  # Using the dictionary to label future data\n",
    "  df.apply(lambda x: d[x.name].transform(x))"
   ]
  }
 ],
 "metadata": {
  "kernelspec": {
   "display_name": "Python 3",
   "language": "python",
   "name": "python3"
  },
  "language_info": {
   "codemirror_mode": {
    "name": "ipython",
    "version": 3
   },
   "file_extension": ".py",
   "mimetype": "text/x-python",
   "name": "python",
   "nbconvert_exporter": "python",
   "pygments_lexer": "ipython3",
   "version": "3.7.1"
  }
 },
 "nbformat": 4,
 "nbformat_minor": 2
}
