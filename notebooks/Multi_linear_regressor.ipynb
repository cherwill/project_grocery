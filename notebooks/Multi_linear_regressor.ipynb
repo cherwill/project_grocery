{
 "cells": [
  {
   "cell_type": "code",
   "execution_count": 1,
   "metadata": {},
   "outputs": [],
   "source": [
    "import numpy as np\n",
    "import matplotlib.pyplot as plt\n",
    "import pandas as pd\n",
    "from sklearn.preprocessing import OneHotEncoder, LabelEncoder\n",
    "from sklearn.model_selection import train_test_split\n",
    "from sklearn.linear_model import LinearRegression\n",
    "import statsmodels.formula.api as sm"
   ]
  },
  {
   "cell_type": "code",
   "execution_count": null,
   "metadata": {},
   "outputs": [],
   "source": [
    "dataset = pd.read_csv(path + '50_Startups.csv')\n",
    "X = dataset.iloc[:, :-1].values\n",
    "y = dataset.iloc[:, 4].values"
   ]
  },
  {
   "cell_type": "code",
   "execution_count": null,
   "metadata": {},
   "outputs": [],
   "source": [
    "labelEncoder_X = LabelEncoder()\n",
    "X[:, 3] = labelEncoder_X.fit_transform(X[:, 3])\n",
    "oneHotEncoder = OneHotEncoder(categorical_features=[3])\n",
    "X = oneHotEncoder.fit_transform(X).toarray()"
   ]
  },
  {
   "cell_type": "code",
   "execution_count": null,
   "metadata": {},
   "outputs": [],
   "source": [
    "#Avoiding the Dummy Variable trap\n",
    "# from the dummpy variable we remove always the one binary column for multicollinearity reasos\n",
    "X = X[:, 1:]"
   ]
  },
  {
   "cell_type": "code",
   "execution_count": null,
   "metadata": {},
   "outputs": [],
   "source": [
    "X_train, X_test, y_train, y_test = train_test_split(X, y, test_size = 0.2, random_state = 0)"
   ]
  },
  {
   "cell_type": "code",
   "execution_count": null,
   "metadata": {},
   "outputs": [],
   "source": [
    "regressor = LinearRegression()\n",
    "regressor.fit(X_train, y_train)\n"
   ]
  },
  {
   "cell_type": "code",
   "execution_count": null,
   "metadata": {},
   "outputs": [],
   "source": [
    "y_pred = regressor.predict(X_test)"
   ]
  },
  {
   "cell_type": "code",
   "execution_count": null,
   "metadata": {},
   "outputs": [],
   "source": [
    "X = np.append(arr=np.ones((50, 1)).astype(int), values=X, axis=1)\n",
    "X_optimum = X[:, [0, 1, 2, 3, 4, 5]]\n",
    "regressor_OLS = sm.OLS(endog=y, exog= X_optimum).fit()\n",
    "summary  = regressor_OLS.summary()"
   ]
  },
  {
   "cell_type": "code",
   "execution_count": null,
   "metadata": {},
   "outputs": [],
   "source": [
    "#because the variable with index number 2 has p-value higher than the limit\n",
    "#  we set for p-value=0.05 we are going to eliminate it\n",
    "X_optimum = X[:, [0, 1, 3, 4, 5]]\n",
    "regressor_OLS = sm.OLS(endog=y, exog= X_optimum).fit()\n",
    "summary  = regressor_OLS.summary()"
   ]
  },
  {
   "cell_type": "code",
   "execution_count": null,
   "metadata": {},
   "outputs": [],
   "source": [
    "#because now the variable with index number 1 has p-value higher than the limit\n",
    "#  we set for p-value=0.05 we are going to eliminate it\n",
    "X_optimum = X[:, [0, 3, 4, 5]]\n",
    "regressor_OLS = sm.OLS(endog=y, exog= X_optimum).fit()\n",
    "summary  = regressor_OLS.summary()"
   ]
  },
  {
   "cell_type": "code",
   "execution_count": null,
   "metadata": {},
   "outputs": [],
   "source": [
    "#because now the variable with index number 4 has p-value higher than the limit\n",
    "#  we set for p-value=0.05 we are going to eliminate it\n",
    "X_optimum = X[:, [0, 3, 5]]\n",
    "regressor_OLS = sm.OLS(endog=y, exog= X_optimum).fit()\n",
    "summary  = regressor_OLS.summary()"
   ]
  },
  {
   "cell_type": "code",
   "execution_count": null,
   "metadata": {},
   "outputs": [],
   "source": [
    "#because now the variable with index number 5 has p-value higher than the limit\n",
    "#  we set for p-value=0.05 we are going to eliminate it\n",
    "X_optimum = X[:, [0, 3]]\n",
    "regressor_OLS = sm.OLS(endog=y, exog= X_optimum).fit()\n",
    "summary  = regressor_OLS.summary()\n",
    "print(summary)"
   ]
  }
 ],
 "metadata": {
  "kernelspec": {
   "display_name": "Python 3",
   "language": "python",
   "name": "python3"
  },
  "language_info": {
   "codemirror_mode": {
    "name": "ipython",
    "version": 3
   },
   "file_extension": ".py",
   "mimetype": "text/x-python",
   "name": "python",
   "nbconvert_exporter": "python",
   "pygments_lexer": "ipython3",
   "version": "3.6.6"
  }
 },
 "nbformat": 4,
 "nbformat_minor": 2
}
