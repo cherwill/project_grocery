{
 "cells": [
  {
   "cell_type": "code",
   "execution_count": null,
   "metadata": {},
   "outputs": [],
   "source": [
    "!pip install lightgbm"
   ]
  },
  {
   "cell_type": "code",
   "execution_count": null,
   "metadata": {},
   "outputs": [],
   "source": [
    "import pandas as pd\n",
    "import numpy as np\n",
    "import pandas_profiling as pp\n",
    "import seaborn as sns\n",
    "from matplotlib import pyplot as plt\n",
    "\n",
    "%matplotlib inline\n",
    "import lightgbm as lgb\n",
    "\n",
    "import pprint\n",
    "from sklearn.model_selection import train_test_split\n",
    "from sklearn.metrics import mean_squared_error\n",
    "from sklearn.metrics import auc\n",
    "from sklearn.metrics import roc_curve\n",
    "\n",
    "import graphviz\n",
    "\n",
    "\n",
    "from eli5.sklearn import PermutationImportance\n",
    "from eli5 import explain_prediction_lightgbm, explain_weights_lightgbm"
   ]
  },
  {
   "cell_type": "code",
   "execution_count": null,
   "metadata": {},
   "outputs": [],
   "source": [
    "#index of the columns that are categorical in a \n",
    "cat_features_index = [0,1,3,4,5,6,8,12,20,21,22,23,25,30,33,36,37,38,39]\n",
    "\n",
    "gbm = lgb.LGBMClassifier(objective='binary',random_state=42,n_estimators=800)\n",
    "\n",
    "train_x, test_x, train_y, test_y = train_test_split(X, Y, test_size=0.1, random_state=42,stratify=Y)\n",
    "\n",
    "estimator.fit(train_x, train_y,\n",
    "            eval_set=[(test_x, test_y)],\n",
    "            #eval_metric='AUC',\n",
    "            early_stopping_rounds=5,\n",
    "            cat_features= cat_features_index\n",
    "            )\n",
    "\n",
    "print('Starting predicting...')\n",
    "  \n",
    "y_pred = estimator.predict_proba(test_x)[:,1] #matrix of dimension (N,2) prob for 0 and prob for 1 - take the 2nd column   , num_iteration=estimator.best_iteration_\n",
    "print('printing evaluation statistic....')\n",
    "print('best_iteration round is ',estimator.best_iteration_)\n",
    "fpr, tpr, thresholds = roc_curve(test_y, y_pred, pos_label=1)\n",
    "print('The auc of prediction is:', auc(fpr, tpr))\n",
    "print('Feature importances:',list(zip(estimator.feature_importances_,cols)))"
   ]
  }
 ],
 "metadata": {
  "kernelspec": {
   "display_name": "Python 3",
   "language": "python",
   "name": "python3"
  },
  "language_info": {
   "codemirror_mode": {
    "name": "ipython",
    "version": 3
   },
   "file_extension": ".py",
   "mimetype": "text/x-python",
   "name": "python",
   "nbconvert_exporter": "python",
   "pygments_lexer": "ipython3",
   "version": "3.7.1"
  }
 },
 "nbformat": 4,
 "nbformat_minor": 2
}
